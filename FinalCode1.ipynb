{
 "cells": [
  {
   "cell_type": "code",
   "execution_count": 8,
   "metadata": {
    "ExecuteTime": {
     "end_time": "2020-07-08T11:56:09.525525Z",
     "start_time": "2020-07-08T11:56:09.519540Z"
    }
   },
   "outputs": [],
   "source": [
    "from pykrx import stock\n",
    "from selenium import webdriver\n",
    "import bs4\n",
    "import datetime\n",
    "import pandas as pd\n",
    "import pandas_datareader as pdr\n",
    "import time\n",
    "import numpy as np"
   ]
  },
  {
   "cell_type": "code",
   "execution_count": 9,
   "metadata": {
    "ExecuteTime": {
     "end_time": "2020-07-08T11:56:09.537493Z",
     "start_time": "2020-07-08T11:56:09.530529Z"
    }
   },
   "outputs": [],
   "source": [
    "def bar_remover(date) :\n",
    "    return date.split(\"-\")[0]+date.split(\"-\")[1]+date.split(\"-\")[2]"
   ]
  },
  {
   "cell_type": "code",
   "execution_count": 10,
   "metadata": {
    "ExecuteTime": {
     "end_time": "2020-07-08T11:56:09.558448Z",
     "start_time": "2020-07-08T11:56:09.539500Z"
    }
   },
   "outputs": [],
   "source": [
    "# 18년 1월 1일부터 가져올 수 있게 구축한 코드\n",
    "def get_stock_by_day(code, start_date):\n",
    "    \n",
    "    start_date_no_bar = bar_remover(start_date)\n",
    "    start_date = start_date\n",
    "    \n",
    "    # end_date는 오늘 날짜로 고정\n",
    "    today = datetime.datetime.today().strftime('%Y%m%d') # krx는 YYYYMMDD 형식, 야후는 YYYY-MM-DD 형식\n",
    "    stock_df = stock.get_market_ohlcv_by_date(start_date_no_bar,today,code,adjusted=True) # 시가 고가 저가 종가 거래량\n",
    "    stock_df2 = stock.get_market_fundamental_by_date(start_date_no_bar,today,code) # DIV BPS PER EPS PBR\n",
    "    today_pdr = datetime.datetime.today().strftime('%Y-%m-%d')\n",
    "    gold = pdr.get_data_yahoo('GC=F', start=start_date, end=today_pdr)[['Adj Close','Volume']] # 금값\n",
    "    gold.columns = ['Adj Close_gold','Volume_gold']\n",
    "    nikkei = pdr.DataReader('^N225', 'yahoo', start=start_date, end = today_pdr)[['Adj Close','Volume']] # 일본 지수\n",
    "    nikkei.columns = ['Adj Close_nikkei','Volume_nikkei']\n",
    "    crude_oil = pdr.get_data_yahoo('CL=F', start=start_date, end=today_pdr)[['Adj Close','Volume']] # 유가\n",
    "    crude_oil.columns = ['Adj Close_oil','Volume_oil']\n",
    "    change = pd.Series(pdr.get_data_yahoo('KRW=X', start=start_date, end=today_pdr)['Adj Close']) # 환율\n",
    "    # 데이터 leftjoin\n",
    "    data = pd.concat([stock_df,stock_df2],axis=1)\n",
    "    data = pd.merge(data,gold,how='left',left_index=True,right_index=True)\n",
    "    data = pd.merge(data,nikkei,how='left',left_index=True,right_index=True)\n",
    "    data = pd.merge(data,crude_oil,how='left',left_index=True,right_index=True)\n",
    "    data = pd.merge(data,change,how='left',left_index=True,right_index=True)\n",
    "    data.columns = ['시가','고가','저가','종가','거래량','DIV','BPS','PER','EPS','PBR','Adj Close_gold','Volume_gold','Adj Close_nikkei','Volume_nikkei','Adj Close_oil','Volume_oil','Adj Close_change']\n",
    "    # 기존에 사용했던 가장 최근의 값으로 채우는 방법 이거 쓰면 거의 다날라감\n",
    "    data = data.fillna(method=\"pad\")\n",
    "    # 주가 자체의 값이 아니라 등락율을 구하기로 해서 다음날과 비교해서 올라가면 1 아니면 0 마지막날은 그대로\n",
    "    for i in range(len(data['종가'])):\n",
    "        if i==0:\n",
    "            continue\n",
    "        elif i>0 and i < (len(data['종가'])-1):\n",
    "            if data['종가'][i] < data['종가'][(i+1)]:\n",
    "                data['종가'][i] = 1\n",
    "            else:\n",
    "                data['종가'][i] = 0\n",
    "        else:\n",
    "            pass\n",
    "    return data"
   ]
  },
  {
   "cell_type": "code",
   "execution_count": 11,
   "metadata": {
    "ExecuteTime": {
     "end_time": "2020-07-08T11:56:09.581376Z",
     "start_time": "2020-07-08T11:56:09.561426Z"
    }
   },
   "outputs": [],
   "source": [
    "def news_finder(stock_id, start_date) : \n",
    "    \n",
    "    start_date = start_date\n",
    "    stock_name = stock.get_market_ticker_name(stock_id)\n",
    "        \n",
    "    # 네이버 금융 뉴스 섹션에 접속\n",
    "    driver = webdriver.Chrome(executable_path=\"chromedriver.exe\")\n",
    "    url = \"https://finance.naver.com/news/\"\n",
    "    driver.get(url)\n",
    "        \n",
    "    driver.find_element_by_xpath('//*[@id=\"newsMainTop\"]/div/div[2]/form/div/input').click() # 검색창 초기화\n",
    "    driver.find_element_by_xpath('//*[@id=\"newsMainTop\"]/div/div[2]/form/div/input').send_keys(stock_name) # 주식 이름 검색창에 입력\n",
    "    driver.find_element_by_xpath('//*[@id=\"newsMainTop\"]/div/div[2]/form/div/a').click() # 검색 아이콘 클릭해서 실행\n",
    "        \n",
    "    now = datetime.datetime.now()\n",
    "    today_date = str(now.strftime('%Y-%m-%d'))\n",
    "\n",
    "    result_url = driver.current_url\n",
    "    new_url = result_url + \"&sm=title.basic&pd=4&stDateStart=\"+ start_date + \"&stDateEnd=\" + today_date # 제목에서만 설정 & Start 날짜 직접 설정 가능!\n",
    "    driver.get(new_url)\n",
    "        \n",
    "    # 몇 페이지까지 존재하는지 알아보자.\n",
    "    bs_obj = bs4.BeautifulSoup(driver.page_source, \"html.parser\") # 뷰티풀숩 object 생성\n",
    "    last = bs_obj.find(\"td\", {\"class\" : \"pgRR\"})\n",
    "    a = last.find('a', href=True)\n",
    "    last_page_num = int(a['href'].split('page=')[1])\n",
    "        \n",
    "    # last_page_num 개의 페이지 URL을 pages라는 리스트에 담아보자.\n",
    "    page_numbering = list(range(1,last_page_num + 1))\n",
    "    pages = []\n",
    "    for i in range(1, last_page_num) :\n",
    "        pages.append(new_url + \"&page=\" + str(i))\n",
    "            \n",
    "        \n",
    "    # 빈 데이터프레임 생성 \n",
    "    df = pd.DataFrame(columns=(\"date\", \"title\", \"content\")) \n",
    "        \n",
    "    # 빈 데이터프레임에 크롤링한 기사 본문 내용들을 채워넣기\n",
    "    for page in pages : \n",
    "        driver.get(page)\n",
    "        bs_obj = bs4.BeautifulSoup(driver.page_source, \"html.parser\")\n",
    "\n",
    "        # 깔끔한 작업을 위해 필요한 영역만 남기고 나머지는 무시하자\n",
    "        news_list = bs_obj.find(\"dl\", {\"class\" : \"newsList\"})\n",
    "        news_titles_1 = news_list.find_all(\"dt\", {\"class\" : \"articleSubject\"}) \n",
    "        news_titles_2 = news_list.find_all(\"dd\", {\"class\" : \"articleSubject\"}) # 네이버 뉴스는 썸네일이 있는 뉴스와 없는 뉴스의 태그가 다르게 설정되어 있네요.\n",
    "        news_titles = news_titles_1 + news_titles_2 # 그래서 작업을 2번 한 후에 합치는 방식을 썼습니다.\n",
    "        del news_titles_1, news_titles_2 # 필요없는 변수 제거\n",
    "\n",
    "\n",
    "        for title in news_titles :\n",
    "            temp = title.find('a', href=True)\n",
    "            news_url = \"https://finance.naver.com\" + temp['href']\n",
    "            driver.get(news_url) # 개별 뉴스들을 클릭하는 동작을 실행시킨다.\n",
    "            bs_obj = bs4.BeautifulSoup(driver.page_source, \"html.parser\")\n",
    "            \n",
    "            if len(driver.window_handles) > 1 : # 팝업창이 있는 경우\n",
    "                time.sleep(1)\n",
    "                driver.switch_to_window(driver.window_handles[1])\n",
    "                driver.close() # 팝업창 종료\n",
    "                driver.switch_to_window(driver.window_handles[0]) # 원래창으로 복귀\n",
    "\n",
    "                # 기사 제목 크롤링\n",
    "                title = driver.find_element_by_xpath('//*[@id=\"contentarea_left\"]/div[2]/div[1]/div[2]/h3').text\n",
    "\n",
    "                # 기사 업로드 날짜 크롤링\n",
    "                date = driver.find_element_by_xpath('//*[@id=\"contentarea_left\"]/div[2]/div[1]/div[2]/div/span').text\n",
    "\n",
    "                # 기사 본문 크롤링\n",
    "                content = driver.find_element_by_xpath('//*[@id=\"content\"]').text\n",
    "\n",
    "                df.loc[len(df)] = [date, title, content] # 빈 데이터프레임에 행 추가\n",
    "            \n",
    "            else : # 팝업창이 없는 경우\n",
    "                \n",
    "                # 기사 제목 크롤링\n",
    "                title = driver.find_element_by_xpath('//*[@id=\"contentarea_left\"]/div[2]/div[1]/div[2]/h3').text\n",
    "\n",
    "                # 기사 업로드 날짜 크롤링\n",
    "                date = driver.find_element_by_xpath('//*[@id=\"contentarea_left\"]/div[2]/div[1]/div[2]/div/span').text\n",
    "\n",
    "                # 기사 본문 크롤링\n",
    "                content = driver.find_element_by_xpath('//*[@id=\"content\"]').text\n",
    "\n",
    "                df.loc[len(df)] = [date, title, content] # 빈 데이터프레임에 행 추가\n",
    "        \n",
    "    # id와 name이라는 column을 만들고 해당 값으로 동일하게 채워넣는다.\n",
    "    df['id'] = stock_id\n",
    "    df['name'] = stock_name     \n",
    "        \n",
    "    return df\n",
    "        \n",
    "    print(\"모든 작업이 종료되었습니다.\")"
   ]
  },
  {
   "cell_type": "code",
   "execution_count": 12,
   "metadata": {
    "ExecuteTime": {
     "end_time": "2020-07-08T11:56:09.596333Z",
     "start_time": "2020-07-08T11:56:09.584366Z"
    }
   },
   "outputs": [],
   "source": [
    "def time_remover(date) :\n",
    "    return date.split(\" \")[0]\n",
    "\n",
    "def preprocessing_news(stock_id, start_date) :\n",
    "    start_date = start_date\n",
    "    temp = news_finder(stock_id, start_date)\n",
    "    temp['date'] = temp[['date']].applymap(time_remover)\n",
    "    date_values = temp['date'].unique()\n",
    "    \n",
    "    # 빈 데이터프레임 생성 \n",
    "    df = pd.DataFrame(columns=(\"날짜\", \"title\", \"content\"))\n",
    "    \n",
    "    for day in date_values :\n",
    "        grouped = temp.groupby('date')\n",
    "        temp_day = grouped.get_group(day)\n",
    "        title_list = [temp_day['title'].tolist()]\n",
    "        content_list = [temp_day['content'].tolist()]\n",
    "        df.loc[len(df)] = [day, title_list, content_list] # 빈 데이터프레임에 행 추가\n",
    "    \n",
    "    ndf = df.set_index(['날짜'])\n",
    "    return ndf\n",
    "    print(\"모든 작업이 종료되었습니다.\")"
   ]
  },
  {
   "cell_type": "code",
   "execution_count": 13,
   "metadata": {
    "ExecuteTime": {
     "end_time": "2020-07-08T11:56:09.609298Z",
     "start_time": "2020-07-08T11:56:09.601321Z"
    }
   },
   "outputs": [],
   "source": [
    "def news_price_merge(stock_id, start_date) :\n",
    "    start_date = start_date\n",
    "    left = preprocessing_news(stock_id, start_date)\n",
    "    right = get_stock_by_day(stock_id, start_date)\n",
    "    merged = left.join(right, how='inner') # 여기서는 index 값이 날짜이기 때문에 동일한 인덱스(날짜) 기준으로 데이터프레임을 병합한다.\n",
    "    \n",
    "    return merged"
   ]
  },
  {
   "cell_type": "code",
   "execution_count": 14,
   "metadata": {
    "ExecuteTime": {
     "end_time": "2020-07-08T12:00:51.808324Z",
     "start_time": "2020-07-08T11:56:25.152728Z"
    }
   },
   "outputs": [
    {
     "name": "stderr",
     "output_type": "stream",
     "text": [
      "C:\\Users\\Park Gi Tae\\Anaconda3\\lib\\site-packages\\ipykernel_launcher.py:34: SettingWithCopyWarning: \n",
      "A value is trying to be set on a copy of a slice from a DataFrame\n",
      "\n",
      "See the caveats in the documentation: http://pandas.pydata.org/pandas-docs/stable/user_guide/indexing.html#returning-a-view-versus-a-copy\n"
     ]
    }
   ],
   "source": [
    "sample_code = news_price_merge('035720', start_date = \"2020-07-01\")"
   ]
  },
  {
   "cell_type": "code",
   "execution_count": 39,
   "metadata": {
    "ExecuteTime": {
     "end_time": "2020-05-31T08:11:12.932484Z",
     "start_time": "2020-05-31T08:11:12.861553Z"
    },
    "scrolled": true
   },
   "outputs": [
    {
     "data": {
      "text/html": [
       "<div>\n",
       "<style scoped>\n",
       "    .dataframe tbody tr th:only-of-type {\n",
       "        vertical-align: middle;\n",
       "    }\n",
       "\n",
       "    .dataframe tbody tr th {\n",
       "        vertical-align: top;\n",
       "    }\n",
       "\n",
       "    .dataframe thead th {\n",
       "        text-align: right;\n",
       "    }\n",
       "</style>\n",
       "<table border=\"1\" class=\"dataframe\">\n",
       "  <thead>\n",
       "    <tr style=\"text-align: right;\">\n",
       "      <th></th>\n",
       "      <th>title</th>\n",
       "      <th>content</th>\n",
       "      <th>시가</th>\n",
       "      <th>고가</th>\n",
       "      <th>저가</th>\n",
       "      <th>종가</th>\n",
       "      <th>거래량</th>\n",
       "      <th>DIV</th>\n",
       "      <th>BPS</th>\n",
       "      <th>PER</th>\n",
       "      <th>EPS</th>\n",
       "      <th>PBR</th>\n",
       "      <th>Adj Close_gold</th>\n",
       "      <th>Volume_gold</th>\n",
       "      <th>Adj Close_nikkei</th>\n",
       "      <th>Volume_nikkei</th>\n",
       "      <th>Adj Close_oil</th>\n",
       "      <th>Volume_oil</th>\n",
       "      <th>Adj Close_change</th>\n",
       "    </tr>\n",
       "    <tr>\n",
       "      <th>날짜</th>\n",
       "      <th></th>\n",
       "      <th></th>\n",
       "      <th></th>\n",
       "      <th></th>\n",
       "      <th></th>\n",
       "      <th></th>\n",
       "      <th></th>\n",
       "      <th></th>\n",
       "      <th></th>\n",
       "      <th></th>\n",
       "      <th></th>\n",
       "      <th></th>\n",
       "      <th></th>\n",
       "      <th></th>\n",
       "      <th></th>\n",
       "      <th></th>\n",
       "      <th></th>\n",
       "      <th></th>\n",
       "      <th></th>\n",
       "    </tr>\n",
       "  </thead>\n",
       "  <tbody>\n",
       "    <tr>\n",
       "      <td>2020-05-27</td>\n",
       "      <td>[[삼성전자, 호암재단에 41억원 출연, 상승장서 삼성전자 '소외'…속타는 개인투자...</td>\n",
       "      <td>[[[아시아경제 황윤주 기자] 삼성전자는 호암재단에 사회공헌 기부금으로 41억원을 ...</td>\n",
       "      <td>48950</td>\n",
       "      <td>50000</td>\n",
       "      <td>48800</td>\n",
       "      <td>49900</td>\n",
       "      <td>19548479</td>\n",
       "      <td>2.84</td>\n",
       "      <td>37528</td>\n",
       "      <td>15.76</td>\n",
       "      <td>3166</td>\n",
       "      <td>1.329572</td>\n",
       "      <td>1707.500000</td>\n",
       "      <td>69434425</td>\n",
       "      <td>21419.230469</td>\n",
       "      <td>112000</td>\n",
       "      <td>31.730000</td>\n",
       "      <td>174923575</td>\n",
       "      <td>1238.300049</td>\n",
       "    </tr>\n",
       "    <tr>\n",
       "      <td>2020-05-28</td>\n",
       "      <td>[[[기업] 삼성전자 스마트 TV서도 '삼성 헬스' 앱 이용 가능, '여의도발' 코...</td>\n",
       "      <td>[[삼성전자가 스마트 TV에서 활용 가능한 '삼성 헬스' 애플리케이션을 우리나라와 ...</td>\n",
       "      <td>51100</td>\n",
       "      <td>51200</td>\n",
       "      <td>49900</td>\n",
       "      <td>1</td>\n",
       "      <td>31309318</td>\n",
       "      <td>2.81</td>\n",
       "      <td>37528</td>\n",
       "      <td>15.92</td>\n",
       "      <td>3166</td>\n",
       "      <td>1.343070</td>\n",
       "      <td>1734.099976</td>\n",
       "      <td>75415191</td>\n",
       "      <td>21916.310547</td>\n",
       "      <td>134000</td>\n",
       "      <td>33.610001</td>\n",
       "      <td>201396421</td>\n",
       "      <td>1237.979980</td>\n",
       "    </tr>\n",
       "    <tr>\n",
       "      <td>2020-05-29</td>\n",
       "      <td>[[삼성전자, 지난해 차세대 대표이사 후보군 7명 교육 실시, 코로나·檢수사에 미·...</td>\n",
       "      <td>[[삼성전자는 지난해 차세대 대표이사 후보군 7명에 대한 교육을 실시한 것으로 나타...</td>\n",
       "      <td>50000</td>\n",
       "      <td>50700</td>\n",
       "      <td>49700</td>\n",
       "      <td>50700</td>\n",
       "      <td>26334984</td>\n",
       "      <td>2.79</td>\n",
       "      <td>37528</td>\n",
       "      <td>16.01</td>\n",
       "      <td>3166</td>\n",
       "      <td>1.350662</td>\n",
       "      <td>1743.000000</td>\n",
       "      <td>70842374</td>\n",
       "      <td>21877.890625</td>\n",
       "      <td>153200</td>\n",
       "      <td>35.320000</td>\n",
       "      <td>167705030</td>\n",
       "      <td>1237.979980</td>\n",
       "    </tr>\n",
       "  </tbody>\n",
       "</table>\n",
       "</div>"
      ],
      "text/plain": [
       "                                                        title  \\\n",
       "날짜                                                              \n",
       "2020-05-27  [[삼성전자, 호암재단에 41억원 출연, 상승장서 삼성전자 '소외'…속타는 개인투자...   \n",
       "2020-05-28  [[[기업] 삼성전자 스마트 TV서도 '삼성 헬스' 앱 이용 가능, '여의도발' 코...   \n",
       "2020-05-29  [[삼성전자, 지난해 차세대 대표이사 후보군 7명 교육 실시, 코로나·檢수사에 미·...   \n",
       "\n",
       "                                                      content     시가     고가  \\\n",
       "날짜                                                                            \n",
       "2020-05-27  [[[아시아경제 황윤주 기자] 삼성전자는 호암재단에 사회공헌 기부금으로 41억원을 ...  48950  50000   \n",
       "2020-05-28  [[삼성전자가 스마트 TV에서 활용 가능한 '삼성 헬스' 애플리케이션을 우리나라와 ...  51100  51200   \n",
       "2020-05-29  [[삼성전자는 지난해 차세대 대표이사 후보군 7명에 대한 교육을 실시한 것으로 나타...  50000  50700   \n",
       "\n",
       "               저가     종가       거래량   DIV    BPS    PER   EPS       PBR  \\\n",
       "날짜                                                                       \n",
       "2020-05-27  48800  49900  19548479  2.84  37528  15.76  3166  1.329572   \n",
       "2020-05-28  49900      1  31309318  2.81  37528  15.92  3166  1.343070   \n",
       "2020-05-29  49700  50700  26334984  2.79  37528  16.01  3166  1.350662   \n",
       "\n",
       "            Adj Close_gold  Volume_gold  Adj Close_nikkei  Volume_nikkei  \\\n",
       "날짜                                                                         \n",
       "2020-05-27     1707.500000     69434425      21419.230469         112000   \n",
       "2020-05-28     1734.099976     75415191      21916.310547         134000   \n",
       "2020-05-29     1743.000000     70842374      21877.890625         153200   \n",
       "\n",
       "            Adj Close_oil  Volume_oil  Adj Close_change  \n",
       "날짜                                                       \n",
       "2020-05-27      31.730000   174923575       1238.300049  \n",
       "2020-05-28      33.610001   201396421       1237.979980  \n",
       "2020-05-29      35.320000   167705030       1237.979980  "
      ]
     },
     "execution_count": 39,
     "metadata": {},
     "output_type": "execute_result"
    }
   ],
   "source": [
    "sample_code.head()"
   ]
  },
  {
   "cell_type": "code",
   "execution_count": 40,
   "metadata": {
    "ExecuteTime": {
     "end_time": "2020-05-31T08:11:15.982728Z",
     "start_time": "2020-05-31T08:11:15.968244Z"
    }
   },
   "outputs": [
    {
     "name": "stdout",
     "output_type": "stream",
     "text": [
      "<class 'pandas.core.frame.DataFrame'>\n",
      "DatetimeIndex: 3 entries, 2020-05-27 to 2020-05-29\n",
      "Freq: D\n",
      "Data columns (total 19 columns):\n",
      "title               3 non-null object\n",
      "content             3 non-null object\n",
      "시가                  3 non-null int32\n",
      "고가                  3 non-null int32\n",
      "저가                  3 non-null int32\n",
      "종가                  3 non-null int32\n",
      "거래량                 3 non-null int32\n",
      "DIV                 3 non-null float64\n",
      "BPS                 3 non-null int32\n",
      "PER                 3 non-null float64\n",
      "EPS                 3 non-null int32\n",
      "PBR                 3 non-null float64\n",
      "Adj Close_gold      3 non-null float64\n",
      "Volume_gold         3 non-null int64\n",
      "Adj Close_nikkei    3 non-null float64\n",
      "Volume_nikkei       3 non-null int64\n",
      "Adj Close_oil       3 non-null float64\n",
      "Volume_oil          3 non-null int64\n",
      "Adj Close_change    3 non-null float64\n",
      "dtypes: float64(7), int32(7), int64(3), object(2)\n",
      "memory usage: 396.0+ bytes\n"
     ]
    }
   ],
   "source": [
    "sample_code.info()"
   ]
  },
  {
   "cell_type": "code",
   "execution_count": null,
   "metadata": {},
   "outputs": [],
   "source": []
  },
  {
   "cell_type": "code",
   "execution_count": null,
   "metadata": {},
   "outputs": [],
   "source": []
  },
  {
   "cell_type": "code",
   "execution_count": null,
   "metadata": {
    "ExecuteTime": {
     "end_time": "2020-05-31T08:04:11.982621Z",
     "start_time": "2020-05-31T08:03:22.932Z"
    }
   },
   "outputs": [],
   "source": [
    "import datetime\n",
    "\n",
    "now = \"2020-05-29\"\n",
    "now = datetime.datetime.strptime(now, \"%Y-%m-%d\")\n",
    "tomorrow = now + datetime.timedelta(days=1)\n",
    "tomorrow = tomorrow.strftime('%Y-%m-%d')\n",
    "print(tomorrow) # tomorrow는 문자열 형식으로 저장됩니다.\n",
    "\n",
    "# 5월 29일을 입력하면 5월 30일이 나온다!"
   ]
  }
 ],
 "metadata": {
  "kernelspec": {
   "display_name": "Python 3",
   "language": "python",
   "name": "python3"
  },
  "language_info": {
   "codemirror_mode": {
    "name": "ipython",
    "version": 3
   },
   "file_extension": ".py",
   "mimetype": "text/x-python",
   "name": "python",
   "nbconvert_exporter": "python",
   "pygments_lexer": "ipython3",
   "version": "3.7.5"
  },
  "toc": {
   "base_numbering": 1,
   "nav_menu": {},
   "number_sections": true,
   "sideBar": true,
   "skip_h1_title": false,
   "title_cell": "Table of Contents",
   "title_sidebar": "Contents",
   "toc_cell": false,
   "toc_position": {},
   "toc_section_display": true,
   "toc_window_display": false
  },
  "varInspector": {
   "cols": {
    "lenName": 16,
    "lenType": 16,
    "lenVar": 40
   },
   "kernels_config": {
    "python": {
     "delete_cmd_postfix": "",
     "delete_cmd_prefix": "del ",
     "library": "var_list.py",
     "varRefreshCmd": "print(var_dic_list())"
    },
    "r": {
     "delete_cmd_postfix": ") ",
     "delete_cmd_prefix": "rm(",
     "library": "var_list.r",
     "varRefreshCmd": "cat(var_dic_list()) "
    }
   },
   "types_to_exclude": [
    "module",
    "function",
    "builtin_function_or_method",
    "instance",
    "_Feature"
   ],
   "window_display": false
  }
 },
 "nbformat": 4,
 "nbformat_minor": 2
}
